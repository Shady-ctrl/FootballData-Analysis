{
 "cells": [
  {
   "cell_type": "code",
   "execution_count": null,
   "id": "2a8e8938",
   "metadata": {},
   "outputs": [],
   "source": [
    "import pandas as pd\n",
    "from sklearn.linear_model import LinearRegression\n",
    "\n",
    "df = pd.read_html('https://fbref.com/en/comps/Big5/Big-5-European-Leagues-Stats',\n",
    "                  attrs={\"id\":\"big5_table\"})[0]\n",
    "\n",
    "df_first_35 = df.head(35)\n",
    "\n",
    "df_first_35 = df_first_35.dropna()\n",
    "\n",
    "features = ['Shots'] \n",
    "target = 'Goals'\n",
    "\n",
    "X = df_first_35[features]\n",
    "y = df_first_35[target]\n",
    "\n",
    "model = LinearRegression()\n",
    "model.fit(X, y)\n",
    "\n",
    "df_first_35.to_excel('big5_leagues_stats.xlsx', index=False)"
   ]
  }
 ],
 "metadata": {
  "kernelspec": {
   "display_name": "Python 3",
   "language": "python",
   "name": "python3"
  },
  "language_info": {
   "codemirror_mode": {
    "name": "ipython",
    "version": 3
   },
   "file_extension": ".py",
   "mimetype": "text/x-python",
   "name": "python",
   "nbconvert_exporter": "python",
   "pygments_lexer": "ipython3",
   "version": "3.10.9"
  }
 },
 "nbformat": 4,
 "nbformat_minor": 5
}
